#giải nén file zip
from google.colab import files
uploaded = files.upload()
import zipfile
import pandas as pd
zip_file = list(uploaded.keys())[0]
with zipfile.ZipFile(zip_file) as z:
  print(z.namelist())
  csv_file = z.namelist()[0]
  with z.open(csv_file) as f:
  #đọc file csv
      data = pd.read_csv(f)
  #loại bỏ outliners
Q1 = data['price'].quantile(0.25)
Q2 = data['price'].quantile(0.75)
IQR = Q2 - Q1
lower_bound = Q1 - 1.5 * IQR
upper_bound = Q2 + 1.5 * IQR
data_clean = data[(data['price'] >= lower_bound) & (data['price'] <= upper_bound)]
#chuẩn hóa categorỉcal data type
yes_no = ['mainroad', 'guestroom', 'basement', 'hotwaterheating', 'airconditioning', 'prefarea']
data_clean[yes_no] = data_clean[yes_no].apply(lambda x : x.map({'yes' : 1, 'no' : 0}))
data_encoded = pd.get_dummies(data_clean, columns = ['furnishingstatus'], drop_first = True)
yes_no_last = ['furnishingstatus_semi-furnished', 'furnishingstatus_unfurnished']
data_encoded[yes_no_last] = data_encoded[yes_no_last].astype(int)
#rescaling features
from sklearn.preprocessing import StandardScaler
scaler = StandardScaler()
features = ['area', 'bedrooms', 'bathrooms', 'stories', 'parking']
data_encoded[features] = scaler.fit_transform(data_encoded[features])
#feature engineering
data_encoded['sum_area'] = data_encoded['area'] * data_encoded['stories']
data_encoded['amenities_count'] = data_encoded[yes_no].sum(axis=1)
data_encoded = pd.get_dummies(data_encoded, columns=['stories'], drop_first=True)
#tách features và target
from sklearn.model_selection import train_test_split
import numpy as np
X = data_encoded.drop('price', axis = 1)
y = np.log1p(data_encoded['price'])
X_train, X_test, y_train, y_test = train_test_split(X, y, test_size = 0.2, random_state = 42)
#model training
from xgboost import XGBRegressor
y_train_log = y_train
y_test_log = y_test
model = XGBRegressor(n_estimators = 500, learning_rate = 0.03, max_depth = 5, subsample = 0.8, colsample_bytree = 0.8, random_state = 42)
model.fit(X_train, y_train_log)
#model evaluation
from sklearn.metrics import mean_squared_error, r2_score
y_pred_log = model.predict(X_test)
y_pred = np.expm1(y_pred_log)
y_test_orig = np.expm1(y_test_log)
rmse = np.sqrt(mean_squared_error(y_test_orig, y_pred))
r2 = r2_score(y_test_orig, y_pred)
print(rmse)
print(r2)
#biểu đồ kết quả
import matplotlib.pyplot as plt
plt.figure(figsize=(12, 6))
plt.plot(y_test_orig.values[:100], label='Actual', marker='o')
plt.plot(y_pred[:100], label='Predicted', marker='x')
plt.xlabel('Sample index')
plt.ylabel('Price')
plt.title('Actual vs Predicted Prices (first 100 samples)')
plt.legend()
plt.grid(True)
